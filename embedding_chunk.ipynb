{
 "cells": [
  {
   "cell_type": "code",
   "execution_count": 1,
   "metadata": {},
   "outputs": [
    {
     "name": "stderr",
     "output_type": "stream",
     "text": [
      "2024-06-10 17:23:30.632440: E external/local_xla/xla/stream_executor/cuda/cuda_dnn.cc:9261] Unable to register cuDNN factory: Attempting to register factory for plugin cuDNN when one has already been registered\n",
      "2024-06-10 17:23:30.632464: E external/local_xla/xla/stream_executor/cuda/cuda_fft.cc:607] Unable to register cuFFT factory: Attempting to register factory for plugin cuFFT when one has already been registered\n",
      "2024-06-10 17:23:30.633046: E external/local_xla/xla/stream_executor/cuda/cuda_blas.cc:1515] Unable to register cuBLAS factory: Attempting to register factory for plugin cuBLAS when one has already been registered\n",
      "2024-06-10 17:23:31.180089: W tensorflow/compiler/tf2tensorrt/utils/py_utils.cc:38] TF-TRT Warning: Could not find TensorRT\n"
     ]
    },
    {
     "data": {
      "text/plain": [
       "True"
      ]
     },
     "execution_count": 1,
     "metadata": {},
     "output_type": "execute_result"
    }
   ],
   "source": [
    "from pyvi import ViTokenizer\n",
    "import os\n",
    "import chromadb\n",
    "from langchain_chroma import Chroma\n",
    "from langchain_community.embeddings.sentence_transformer import (\n",
    "    SentenceTransformerEmbeddings,\n",
    ")\n",
    "\n",
    "from langchain.text_splitter import RecursiveCharacterTextSplitter\n",
    "from llm.llm import BedRockLLMs,CoreLLMs\n",
    "from llm.llm_utils import *\n",
    "import boto3    \n",
    "from dotenv import load_dotenv\n",
    "load_dotenv()"
   ]
  },
  {
   "cell_type": "code",
   "execution_count": null,
   "metadata": {},
   "outputs": [],
   "source": []
  },
  {
   "cell_type": "code",
   "execution_count": 2,
   "metadata": {},
   "outputs": [
    {
     "name": "stderr",
     "output_type": "stream",
     "text": [
      "Special tokens have been added in the vocabulary, make sure the associated word embeddings are fine-tuned or trained.\n"
     ]
    },
    {
     "data": {
      "application/vnd.jupyter.widget-view+json": {
       "model_id": "14a368dfdb764ccda900ad5d6c2c86f7",
       "version_major": 2,
       "version_minor": 0
      },
      "text/plain": [
       "Loading checkpoint shards:   0%|          | 0/4 [00:00<?, ?it/s]"
      ]
     },
     "metadata": {},
     "output_type": "display_data"
    }
   ],
   "source": [
    "llm = CoreLLMs()"
   ]
  },
  {
   "cell_type": "code",
   "execution_count": 2,
   "metadata": {},
   "outputs": [],
   "source": [
    "model = 'bkai-foundation-models/vietnamese-bi-encoder'\n",
    "embedding = SentenceTransformerEmbeddings(model_name=model)"
   ]
  },
  {
   "cell_type": "code",
   "execution_count": 3,
   "metadata": {},
   "outputs": [],
   "source": [
    "data_dir=\"data_raw10k\"\n",
    "persist_dir=\"/content/drive/MyDrive/speech/RAG/ChromaDB/chromadb\"\n",
    "col_name=\"wiki10k\"\n",
    "DATA_DIR = data_dir\n",
    "CHROMA_PATH = persist_dir\n",
    "COLLECTION_NAME = col_name\n",
    "\n",
    "vectorstore1 = Chroma(collection_name=COLLECTION_NAME, persist_directory=CHROMA_PATH, embedding_function=embd)\n",
    "\n",
    "data_dir=\"gendata\"\n",
    "persist_dir=\"/content/drive/MyDrive/speech/RAG/ChromaDB/genchromadb\"\n",
    "col_name=\"wiki10k\"\n",
    "DATA_DIR = data_dir\n",
    "CHROMA_PATH = persist_dir\n",
    "COLLECTION_NAME = col_name\n",
    "\n",
    "vectorstore2 = Chroma(collection_name=COLLECTION_NAME, persist_directory=CHROMA_PATH, embedding_function=embd)"
   ]
  },
  {
   "cell_type": "code",
   "execution_count": 10,
   "metadata": {},
   "outputs": [],
   "source": [
    "text_splitter = RecursiveCharacterTextSplitter(chunk_size=800, chunk_overlap=100)"
   ]
  },
  {
   "cell_type": "code",
   "execution_count": 1,
   "metadata": {},
   "outputs": [],
   "source": [
    "from tqdm import tqdm\n",
    "texts = []\n",
    "chunks_ids = []\n",
    "ids = []\n",
    "id = 0\n",
    "\n",
    "\n",
    "for i, file in tqdm(enumerate(os.listdir('data_raw10k'))):\n",
    "    with open(f'data_raw10k/{file}', 'r') as f:\n",
    "        data = f.read()\n",
    "        data = ViTokenizer.tokenize(data)\n",
    "        \n",
    "        data = data.split('\\n')\n",
    "        title = data[0]\n",
    "        data = '\\n'.join(data[1:])\n",
    "        \n",
    "        docs = text_splitter.split_text(data)\n",
    "        for doc in docs:\n",
    "            texts.append(doc)\n",
    "            ids.append('id'+str(id))\n",
    "            id += 1\n",
    "            chunks_ids.append({'chunk':i, 'file':file, 'title':title})\n",
    "            \n",
    "set_texts = set()\n",
    "distinct_texts = []\n",
    "distinct_ids = []\n",
    "distinct_chunks_ids = []\n",
    "\n",
    "for i in range(len(texts)):\n",
    "    if texts[i] not in set_texts:\n",
    "        set_texts.add(texts[i])\n",
    "        distinct_texts.append(texts[i])\n",
    "        distinct_ids.append(ids[i])\n",
    "        distinct_chunks_ids.append(chunks_ids[i])\n",
    "        \n",
    "batch_size = 100\n",
    "\n",
    "for i in range(0, len(distinct_texts), batch_size):\n",
    "    batch_texts = distinct_texts[i:i+batch_size]\n",
    "    batch_ids = distinct_ids[i:i+batch_size]\n",
    "    batch_chunks_ids = distinct_chunks_ids[i:i+batch_size]\n",
    "    vectorstore1.add_texts(batch_texts, ids=batch_ids, metadatas=batch_chunks_ids)\n",
    "            \n"
   ]
  },
  {
   "cell_type": "code",
   "execution_count": 13,
   "metadata": {},
   "outputs": [],
   "source": [
    "for i, file in enumerate(os.listdir('gendata')):\n",
    "    with open(f'gendata/{file}', 'r') as f:\n",
    "        data = f.read()\n",
    "        data = ViTokenizer.tokenize(data)\n",
    "        \n",
    "        docs = text_splitter.split_text(data)\n",
    "        for doc in docs:\n",
    "            texts.append(doc)\n",
    "            ids.append('id'+str(id))\n",
    "            id += 1\n",
    "            chunks_ids.append({'chunk':i, 'file':file})\n",
    "            \n",
    "batch_size = 100\n",
    "\n",
    "for i in range(0, len(distinct_texts), batch_size):\n",
    "    batch_texts = distinct_texts[i:i+batch_size]\n",
    "    batch_ids = distinct_ids[i:i+batch_size]\n",
    "    batch_chunks_ids = distinct_chunks_ids[i:i+batch_size]\n",
    "    vectorstore2.add_texts(batch_texts, ids=batch_ids, metadatas=batch_chunks_ids)"
   ]
  }
 ],
 "metadata": {
  "kernelspec": {
   "display_name": "base",
   "language": "python",
   "name": "python3"
  },
  "language_info": {
   "codemirror_mode": {
    "name": "ipython",
    "version": 3
   },
   "file_extension": ".py",
   "mimetype": "text/x-python",
   "name": "python",
   "nbconvert_exporter": "python",
   "pygments_lexer": "ipython3",
   "version": "3.11.5"
  }
 },
 "nbformat": 4,
 "nbformat_minor": 2
}
